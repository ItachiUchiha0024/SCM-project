1. what is the capital of india
New Delhi
2. what is the capital of punjab
chandigarh
